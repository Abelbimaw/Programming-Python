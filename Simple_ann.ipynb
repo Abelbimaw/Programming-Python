{
  "nbformat": 4,
  "nbformat_minor": 0,
  "metadata": {
    "colab": {
      "name": "Simple ann.ipynb",
      "provenance": [],
      "authorship_tag": "ABX9TyNSP8ZDDakj+TY/IB1zvkYm",
      "include_colab_link": true
    },
    "kernelspec": {
      "name": "python3",
      "display_name": "Python 3"
    }
  },
  "cells": [
    {
      "cell_type": "markdown",
      "metadata": {
        "id": "view-in-github",
        "colab_type": "text"
      },
      "source": [
        "<a href=\"https://colab.research.google.com/github/Abelbimaw/Programming-Python/blob/main/Simple_ann.ipynb\" target=\"_parent\"><img src=\"https://colab.research.google.com/assets/colab-badge.svg\" alt=\"Open In Colab\"/></a>"
      ]
    },
    {
      "cell_type": "code",
      "metadata": {
        "id": "d9CDzzCaiA3S"
      },
      "source": [
        "import numpy as np\n"
      ],
      "execution_count": 4,
      "outputs": []
    },
    {
      "cell_type": "code",
      "metadata": {
        "id": "l67av9LAiJVV",
        "colab": {
          "base_uri": "https://localhost:8080/"
        },
        "outputId": "f7f4fe41-e09d-45a3-8b99-5ba32c7adc05"
      },
      "source": [
        "training_input = np.array([[0,0,1],\n",
        "                           [1,1,1],\n",
        "                           [1,0,1],\n",
        "                           [0,1,1]])\n",
        "print(training_input)"
      ],
      "execution_count": 5,
      "outputs": [
        {
          "output_type": "stream",
          "text": [
            "[[0 0 1]\n",
            " [1 1 1]\n",
            " [1 0 1]\n",
            " [0 1 1]]\n"
          ],
          "name": "stdout"
        }
      ]
    },
    {
      "cell_type": "code",
      "metadata": {
        "id": "Py9OrPGIix6k",
        "colab": {
          "base_uri": "https://localhost:8080/"
        },
        "outputId": "bfa497b3-cbe8-4db9-d678-feb4e3b72658"
      },
      "source": [
        "training_output = np.array([[0,1,1,0]]).T\n",
        "print(training_output)"
      ],
      "execution_count": 6,
      "outputs": [
        {
          "output_type": "stream",
          "text": [
            "[[0]\n",
            " [1]\n",
            " [1]\n",
            " [0]]\n"
          ],
          "name": "stdout"
        }
      ]
    },
    {
      "cell_type": "code",
      "metadata": {
        "id": "nLtuYuOljECk"
      },
      "source": [
        "def sigmoid(x):\n",
        "  return 1/(1+np.exp(-x))"
      ],
      "execution_count": 7,
      "outputs": []
    },
    {
      "cell_type": "code",
      "metadata": {
        "id": "SAGIR5BwB9pa"
      },
      "source": [
        "def sigmoid_derivate(x):\n",
        "  return x*(1-x)"
      ],
      "execution_count": 20,
      "outputs": []
    },
    {
      "cell_type": "code",
      "metadata": {
        "id": "UTsrM3Bejhlf",
        "colab": {
          "base_uri": "https://localhost:8080/"
        },
        "outputId": "73a6a5b1-7661-4b2e-cdc9-4fb6857015ca"
      },
      "source": [
        "np.random.seed(1)\n",
        "synaptic_weight = 2 * np.random.random((3,1)) - 1\n",
        "synaptic_weight"
      ],
      "execution_count": 18,
      "outputs": [
        {
          "output_type": "execute_result",
          "data": {
            "text/plain": [
              "array([[-0.39533485],\n",
              "       [-0.70648822],\n",
              "       [-0.81532281]])"
            ]
          },
          "metadata": {
            "tags": []
          },
          "execution_count": 18
        }
      ]
    },
    {
      "cell_type": "code",
      "metadata": {
        "colab": {
          "base_uri": "https://localhost:8080/"
        },
        "id": "D2nZXxXt9ZIi",
        "outputId": "99380dd8-3026-4b3f-dbb1-892d02f1e8a5"
      },
      "source": [
        "for interaction in range(20000):\n",
        "  #forward propagation\n",
        "  input_layer = training_input\n",
        "  output = sigmoid(np.dot(input_layer, synaptic_weight))\n",
        "\n",
        "  #backward propagation\n",
        "  error = training_output - output\n",
        "  adjust = error * sigmoid_derivate(output)\n",
        "  synaptic_weight += np.dot(input_layer.T, adjust)\n",
        "\n",
        "print(\"Weight after training\")\n",
        "print(synaptic_weight) \n",
        "\n",
        "print(\"Output of Training: \")\n",
        "print(output)\n"
      ],
      "execution_count": 23,
      "outputs": [
        {
          "output_type": "stream",
          "text": [
            "Weight after training\n",
            "[[10.47727286]\n",
            " [-0.20657399]\n",
            " [-5.03289254]]\n",
            "Output of Training: \n",
            "[[0.00647784]\n",
            " [0.99471605]\n",
            " [0.99569797]\n",
            " [0.00527523]]\n"
          ],
          "name": "stdout"
        }
      ]
    },
    {
      "cell_type": "code",
      "metadata": {
        "colab": {
          "base_uri": "https://localhost:8080/"
        },
        "id": "cbDgrfv8DxHa",
        "outputId": "d1afaea2-4e58-442f-d585-0edc2fc27f91"
      },
      "source": [
        "for j in output:\n",
        "  print(np.around(j))"
      ],
      "execution_count": 24,
      "outputs": [
        {
          "output_type": "stream",
          "text": [
            "[0.]\n",
            "[1.]\n",
            "[1.]\n",
            "[0.]\n"
          ],
          "name": "stdout"
        }
      ]
    },
    {
      "cell_type": "code",
      "metadata": {
        "id": "xGMZFP9sBrJq"
      },
      "source": [
        ""
      ],
      "execution_count": null,
      "outputs": []
    }
  ]
}