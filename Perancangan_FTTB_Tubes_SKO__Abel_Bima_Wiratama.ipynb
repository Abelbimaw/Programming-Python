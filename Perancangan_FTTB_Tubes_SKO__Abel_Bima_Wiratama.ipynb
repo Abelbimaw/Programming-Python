{
  "nbformat": 4,
  "nbformat_minor": 0,
  "metadata": {
    "colab": {
      "name": "Perancangan FTTB_Tubes SKO_ Abel Bima Wiratama",
      "provenance": [],
      "collapsed_sections": [],
      "authorship_tag": "ABX9TyPP+J64mFpgKcFLCUMeXutk",
      "include_colab_link": true
    },
    "kernelspec": {
      "name": "python3",
      "display_name": "Python 3"
    }
  },
  "cells": [
    {
      "cell_type": "markdown",
      "metadata": {
        "id": "view-in-github",
        "colab_type": "text"
      },
      "source": [
        "<a href=\"https://colab.research.google.com/github/Abelbimaw/Programming-Python/blob/main/Perancangan_FTTB_Tubes_SKO__Abel_Bima_Wiratama.ipynb\" target=\"_parent\"><img src=\"https://colab.research.google.com/assets/colab-badge.svg\" alt=\"Open In Colab\"/></a>"
      ]
    },
    {
      "cell_type": "markdown",
      "metadata": {
        "id": "HkrsDnK0ojgf"
      },
      "source": [
        "**TUBES SKO**\r\n",
        "\r\n",
        "Nama : Abel Bima Wiratama\r\n",
        "\r\n",
        "NIM : 1101184123\r\n",
        "\r\n",
        "Kelas : TT-42-07\r\n"
      ]
    },
    {
      "cell_type": "markdown",
      "metadata": {
        "id": "3PgFXK3T-KdV"
      },
      "source": [
        "Pada tugas besar mata kuliah SISTEM KOMUNIKASI OPTIK saya membuat perancangan FTTB dengan skema sebagai berikut:\r\n",
        "\r\n",
        "1.   **OLT->ODP->Roset -> ONT**\r\n",
        "2.   **Ketinggian** 60 meter dengan perincian suatu gedung memiliki 20 lantai dan antar lantai memiliki tinggi 3 meter sehingga diperloeh ketinggian gedung 60 meter.\r\n",
        "3.   Perhitungan **jarak** jarak dari OLT Ke Roset = 20 km, \r\n",
        "     jarak Roset ke ONT = 3 meter * 20 = 60 m,\r\n",
        "     jarak Total = 20000 + 60 = 20060 m\r\n",
        "\r\n",
        "Pada perancangan ini kami menggunakan 7 **konektor** dan 4 **spliter**, dengan **spliter** **1:8** pada **ODP ke ROSET** dengan **redaman 10.7 dB** sedangkan **spliter 1:4 OLT ke ODP** dengan **redaman 7.2 dB**. Kami menggunakan **fiber jenis G.652** yang memiliki panjang **gelombang 1310/1490 nm** dengan **redaman 0.28 dB/Km**.\r\n"
      ]
    },
    {
      "cell_type": "code",
      "metadata": {
        "id": "jT977OAmijE-"
      },
      "source": [
        "import numpy as np\r\n",
        "import matplotlib.pyplot as plt\r\n",
        "import math as m"
      ],
      "execution_count": 242,
      "outputs": []
    },
    {
      "cell_type": "code",
      "metadata": {
        "id": "9YY6L4zlNd-a"
      },
      "source": [
        "#Parameter\r\n",
        "Pt = 7 #dbm Daya Keluaran sumber optik(OLT)\r\n",
        "SM =  6 #safety margin 6 dB\r\n",
        "R = 0.8 # Responsivitas (A/W)\r\n",
        "M = 1 #Tambahan daya sinyal APD (dB)\r\n",
        "q = 1.6*10**-19\r\n",
        "K = 1.38 * 10**23 #Konstanta Boltzman\r\n",
        "Teff= 290 #Kelvin\r\n",
        "B = 2.4 * 10**9 # Bandwith 2,4 Ghz \r\n",
        "Req = 50 # Resistensi Ekivalensi\r\n",
        "id = 200*10**-9 #Arus gelap(A)\r\n",
        "F = 1 #F(M), Faktor Gain\r\n",
        "\r\n",
        "#Perhitungan jarak\r\n",
        "#Jarak dari OLT Ke Roset = 20 km\r\n",
        "#Jarak Roset ke ONT = 3 meter * 20 = 60 m \r\n",
        "#Jarak Total = 20000 + 60 = 20060 m\r\n",
        "L = np.arange(0,20.06,0.001) #Km\r\n",
        "Ns = 4 #jumlah sambungan\r\n",
        "Nc = 7 #jumlah konektor\r\n",
        "Sp = 10.7 + 7.4 #jenis PS 1:8, 1:4\r\n",
        "Ac = 0.2 #redaman konektor(dB/buah)\r\n",
        "As = 0.05 #redaman dB/splice\r\n",
        "Aserat =  0.28 # redaman serat optic dB/Km G.652(1310/1490)\r\n",
        "\r\n",
        "#lambda\r\n",
        "NtL = lambda x: 10*np.log10(x)\r\n",
        "LtN = lambda x: 10**(x/10)"
      ],
      "execution_count": 243,
      "outputs": []
    },
    {
      "cell_type": "code",
      "metadata": {
        "colab": {
          "base_uri": "https://localhost:8080/"
        },
        "id": "KtlFfzzuTlPl",
        "outputId": "a148c6bf-10db-4d5f-cb7f-72718024d79d"
      },
      "source": [
        " #Rumus Pr\r\n",
        "def P_receiver():\r\n",
        "  hambatan_fiber = L * Aserat \r\n",
        "  hambatan_splicer = Ns * As\r\n",
        "  hambatan_connector = Nc * Ac\r\n",
        "  alfa_total  = hambatan_connector + hambatan_splicer + hambatan_fiber + Sp + SM\r\n",
        "  Pr = Pt - alfa_total\r\n",
        "  return Pr\r\n",
        "\r\n",
        "Pr = P_receiver()\r\n",
        "print('Daya Terima = ', Pr,'Watt')"
      ],
      "execution_count": 244,
      "outputs": [
        {
          "output_type": "stream",
          "text": [
            "Daya Terima =  [-18.7     -18.70028 -18.70056 ... -24.31596 -24.31624 -24.31652] Watt\n"
          ],
          "name": "stdout"
        }
      ]
    },
    {
      "cell_type": "code",
      "metadata": {
        "colab": {
          "base_uri": "https://localhost:8080/"
        },
        "id": "RbL6Jyz8sqM6",
        "outputId": "9459827b-0216-4416-8c8a-9e6135345cb2"
      },
      "source": [
        "#Rumus Arus Primer\r\n",
        "def arus_primer():\r\n",
        "  Prnum = LtN(Pr)\r\n",
        "  ip = R * Prnum\r\n",
        "  return ip\r\n",
        "ip = arus_primer()\r\n",
        "print('Arus Primer = ',ip,'Watt')"
      ],
      "execution_count": 245,
      "outputs": [
        {
          "output_type": "stream",
          "text": [
            "Arus Primer =  [0.0107917  0.01079101 0.01079031 ... 0.00296138 0.00296119 0.002961  ] Watt\n"
          ],
          "name": "stdout"
        }
      ]
    },
    {
      "cell_type": "code",
      "metadata": {
        "colab": {
          "base_uri": "https://localhost:8080/"
        },
        "id": "fxWa-8KqtTrp",
        "outputId": "195751a6-b3a8-402a-cb1a-f898698f91cc"
      },
      "source": [
        "#RUMUS PERHITUNGAN SIGNAL POWER\r\n",
        "def signal_power():\r\n",
        "  sig = (ip*M)**2\r\n",
        "  return sig\r\n",
        "signal = signal_power()\r\n",
        "print('Signal = ',signal,'A')"
      ],
      "execution_count": 246,
      "outputs": [
        {
          "output_type": "stream",
          "text": [
            "Signal =  [1.16460855e-04 1.16445839e-04 1.16430825e-04 ... 8.76976537e-06\n",
            " 8.76863462e-06 8.76750403e-06] A\n"
          ],
          "name": "stdout"
        }
      ]
    },
    {
      "cell_type": "code",
      "metadata": {
        "colab": {
          "base_uri": "https://localhost:8080/"
        },
        "id": "DjTgxSCuXaKr",
        "outputId": "ee1b7348-8982-49b1-92c7-34e812fd822a"
      },
      "source": [
        "#RUMUS PERHITUNGAN NOISE POWER\r\n",
        "def noise_power():\r\n",
        "  BDC = 2*q*id*B*(M**2)*F #Dark Current\r\n",
        "  SNC = 2*q*ip*B*(M**2)*F #Short Noise Current\r\n",
        "  NT =  (4*K*Teff*B)/Req #Derau Thermanl\r\n",
        "  noi = BDC + SNC + NT\r\n",
        "  return noi\r\n",
        "noise = noise_power()\r\n",
        "print('Noise = ',noise,'A')"
      ],
      "execution_count": 247,
      "outputs": [
        {
          "output_type": "stream",
          "text": [
            "Noise =  [7.68384e+33 7.68384e+33 7.68384e+33 ... 7.68384e+33 7.68384e+33\n",
            " 7.68384e+33] A\n"
          ],
          "name": "stdout"
        }
      ]
    },
    {
      "cell_type": "code",
      "metadata": {
        "colab": {
          "base_uri": "https://localhost:8080/"
        },
        "id": "M0Oe1qqDzTYe",
        "outputId": "2ef1b22d-8686-417d-ebe2-8b8ac371b725"
      },
      "source": [
        "#RUMUS SNR\r\n",
        "def snr():\r\n",
        "  snr = signal/noise\r\n",
        "  snr_dB = NtL(snr)\r\n",
        "  return snr_dB\r\n",
        "SNR = snr()\r\n",
        "print('SNR = ',SNR,'dBm')"
      ],
      "execution_count": 248,
      "outputs": [
        {
          "output_type": "stream",
          "text": [
            "SNR =  [-378.19398339 -378.19454339 -378.19510339 ... -389.42590339 -389.42646339\n",
            " -389.42702339] dBm\n"
          ],
          "name": "stdout"
        }
      ]
    },
    {
      "cell_type": "code",
      "metadata": {
        "colab": {
          "base_uri": "https://localhost:8080/"
        },
        "id": "5CpG4bwqowEB",
        "outputId": "f35d8bdb-d2ed-4002-e481-5f0f973ece99"
      },
      "source": [
        "#RUMUS Q\r\n",
        "def Q_rumus():\r\n",
        "  q_rum = 0.5*(10**(SNR/20))\r\n",
        "  return q_rum\r\n",
        "Q = Q_rumus()\r\n",
        "print(Q)"
      ],
      "execution_count": 249,
      "outputs": [
        {
          "output_type": "stream",
          "text": [
            "[6.15560629e-20 6.15520944e-20 6.15481261e-20 ... 1.68917574e-20\n",
            " 1.68906684e-20 1.68895794e-20]\n"
          ],
          "name": "stdout"
        }
      ]
    },
    {
      "cell_type": "code",
      "metadata": {
        "colab": {
          "base_uri": "https://localhost:8080/"
        },
        "id": "LxCBaCJQqm5P",
        "outputId": "531a447a-cb2d-448b-c1cb-9025a0459a6f"
      },
      "source": [
        "#RUMUS BER\r\n",
        "kali_list = []\r\n",
        "def BER_rumus():\r\n",
        "  akr = 1/m.sqrt(2*m.pi)*1/Q\r\n",
        "  for i in range(len(Q)):\r\n",
        "    kali = m.exp(-(Q[i])**2/2)\r\n",
        "    kali_list.append(kali)\r\n",
        "  B = akr * kali_list\r\n",
        "  return B\r\n",
        "B = BER_rumus()\r\n",
        "print(B)\r\n"
      ],
      "execution_count": 252,
      "outputs": [
        {
          "output_type": "stream",
          "text": [
            "[6.48095836e+18 6.48137621e+18 6.48179410e+18 ... 2.36175711e+19\n",
            " 2.36190938e+19 2.36206166e+19]\n"
          ],
          "name": "stdout"
        }
      ]
    },
    {
      "cell_type": "code",
      "metadata": {
        "colab": {
          "base_uri": "https://localhost:8080/",
          "height": 851
        },
        "id": "miwwSTpz1O9e",
        "outputId": "4d8d5c81-767e-4f46-f695-8cf443e3fb39"
      },
      "source": [
        "#GRAFIK\r\n",
        "def grafik_snr():\r\n",
        "  plt.figure()\r\n",
        "  plt.plot(L,SNR,'r')\r\n",
        "  plt.title('Perbandingan Jarak dengan SNR')\r\n",
        "  plt.xlabel('Jarak (Km)')\r\n",
        "  plt.ylabel('SNR (dB)')\r\n",
        "  plt.show()\r\n",
        "\r\n",
        "def grafik_Q():\r\n",
        "  plt.figure()\r\n",
        "  plt.plot(L,Q,'g')\r\n",
        "  plt.title('Perbandingan Jarak dengan Q')\r\n",
        "  plt.xlabel('Jarak (Km)')\r\n",
        "  plt.ylabel('Q')\r\n",
        "  plt.show()\r\n",
        "\r\n",
        "def grafik_BER():\r\n",
        "  plt.figure()\r\n",
        "  plt.plot(L,B,'b')\r\n",
        "  plt.title('Perbandingan Jarak dengan BER')\r\n",
        "  plt.xlabel('Jarak (Km)')\r\n",
        "  plt.ylabel('BER')\r\n",
        "  plt.show()\r\n",
        "\r\n",
        "grafik_snr()\r\n",
        "grafik_Q()\r\n",
        "grafik_BER()"
      ],
      "execution_count": 253,
      "outputs": [
        {
          "output_type": "display_data",
          "data": {
            "image/png": "[encoded data removed]",
            "text/plain": [
              "<Figure size 432x288 with 1 Axes>"
            ]
          },
          "metadata": {
            "tags": [],
            "needs_background": "light"
          }
        },
        {
          "output_type": "display_data",
          "data": {
            "image/png": "[encoded data removed]",
            "text/plain": [
              "<Figure size 432x288 with 1 Axes>"
            ]
          },
          "metadata": {
            "tags": [],
            "needs_background": "light"
          }
        },
        {
          "output_type": "display_data",
          "data": {
            "image/png": "[encoded data removed]",
            "text/plain": [
              "<Figure size 432x288 with 1 Axes>"
            ]
          },
          "metadata": {
            "tags": [],
            "needs_background": "light"
          }
        }
      ]
    },
    {
      "cell_type": "code",
      "metadata": {
        "id": "tjuqEKLU4T1K"
      },
      "source": [
        "  "
      ],
      "execution_count": null,
      "outputs": []
    }
  ]
}