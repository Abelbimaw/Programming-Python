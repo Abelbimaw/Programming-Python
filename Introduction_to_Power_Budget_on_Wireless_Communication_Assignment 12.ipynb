{
  "nbformat": 4,
  "nbformat_minor": 0,
  "metadata": {
    "colab": {
      "name": "Introduction to Power Budget on Wireless Communication.ipynb",
      "provenance": [],
      "authorship_tag": "ABX9TyMGxXbar0RTvHs4mPV3f0uJ",
      "include_colab_link": true
    },
    "kernelspec": {
      "name": "python3",
      "display_name": "Python 3"
    }
  },
  "cells": [
    {
      "cell_type": "markdown",
      "metadata": {
        "id": "view-in-github",
        "colab_type": "text"
      },
      "source": [
        "<a href=\"https://colab.research.google.com/github/Abelbimaw/Programming-Python/blob/main/Introduction_to_Power_Budget_on_Wireless_Communication_Assignment%2012.ipynb\" target=\"_parent\"><img src=\"https://colab.research.google.com/assets/colab-badge.svg\" alt=\"Open In Colab\"/></a>"
      ]
    },
    {
      "cell_type": "markdown",
      "metadata": {
        "id": "abRwt7vf0G-c"
      },
      "source": [
        "Name  : Abel Bima Wiratama\r\n",
        "\r\n",
        "ID    : 1101184123\r\n",
        "\r\n",
        "Class : TT-42-07\r\n",
        "\r\n",
        "Assignment : Python 12"
      ]
    },
    {
      "cell_type": "code",
      "metadata": {
        "id": "dFUV3LqgntWC"
      },
      "source": [
        "import numpy as np"
      ],
      "execution_count": 1,
      "outputs": []
    },
    {
      "cell_type": "code",
      "metadata": {
        "id": "LggjnH3t0mQP",
        "colab": {
          "base_uri": "https://localhost:8080/"
        },
        "outputId": "b2e39ad5-191b-4525-ed31-16107ddfa764"
      },
      "source": [
        "fc = int(input(\"Masukan frekuensi dalam Hz(150000000-2000000000) : \"))\r\n",
        "hT = int(input(\"Masukan tinggi antena Pengirim dalam meter(30 - 200): \"))\r\n",
        "hR = int(input(\"Masukan tinggi antena Penerima dalam meter(1-30): \"))\r\n",
        "d = int(input(\"Jarak antara pengirim dan penerima(km): \"))\r\n",
        "area = input(\"Masukan tipe area (Open, Suburban, Urban): \")\r\n"
      ],
      "execution_count": 2,
      "outputs": [
        {
          "output_type": "stream",
          "text": [
            "Masukan frekuensi dalam Hz(150000000-2000000000) : 500000000\n",
            "Masukan tinggi antena Pengirim dalam meter(30 - 200): 45\n",
            "Masukan tinggi antena Penerima dalam meter(1-30): 5\n",
            "Jarak antara pengirim dan penerima(km): 67\n",
            "Masukan tipe area (Open, Suburban, Urban): Urban\n"
          ],
          "name": "stdout"
        }
      ]
    },
    {
      "cell_type": "code",
      "metadata": {
        "id": "gK5uVp0wFs9r"
      },
      "source": [
        "NtL = lambda x: 10*np.log10(x)"
      ],
      "execution_count": 3,
      "outputs": []
    },
    {
      "cell_type": "code",
      "metadata": {
        "colab": {
          "base_uri": "https://localhost:8080/"
        },
        "id": "6adfq4du75tA",
        "outputId": "6ee72d32-936b-4ab6-f45f-d59dfd6f05fb"
      },
      "source": [
        "def syaratFC(fc):\r\n",
        "  if fc<1500000000 and fc>=400000000:\r\n",
        "    C1,C2 = 69.55, 26.16\r\n",
        "  if fc<=2000000000 and fc>= 1500000000:\r\n",
        "    C1,C2 = 46.3, 33.9\r\n",
        "  return C1,C2\r\n",
        "syaratFC(fc)"
      ],
      "execution_count": 4,
      "outputs": [
        {
          "output_type": "execute_result",
          "data": {
            "text/plain": [
              "(69.55, 26.16)"
            ]
          },
          "metadata": {
            "tags": []
          },
          "execution_count": 4
        }
      ]
    },
    {
      "cell_type": "code",
      "metadata": {
        "colab": {
          "base_uri": "https://localhost:8080/"
        },
        "id": "QzVTDjQw84tM",
        "outputId": "37427e03-6d05-4cff-ac59-a67f56d19aae"
      },
      "source": [
        "def cariAHR(fc,hR):\r\n",
        "  a_hr = (1.1*np.log10(fc)-0.7)*hR-(1,56*np.log10(fc)-0.8)\r\n",
        "  return a_hr\r\n",
        "cariAHR(fc,hR)"
      ],
      "execution_count": 5,
      "outputs": [
        {
          "output_type": "execute_result",
          "data": {
            "text/plain": [
              "array([  43.34433502, -441.99798522])"
            ]
          },
          "metadata": {
            "tags": []
          },
          "execution_count": 5
        }
      ]
    },
    {
      "cell_type": "code",
      "metadata": {
        "colab": {
          "base_uri": "https://localhost:8080/"
        },
        "id": "Xix8n0iU_OOm",
        "outputId": "5926c85e-1e5c-45da-934f-5760f84dd7c2"
      },
      "source": [
        "def cariCM(area,fc):\r\n",
        "  if area == \"Urban\":\r\n",
        "    cm = 0\r\n",
        "  if area == \"Suburban\":\r\n",
        "    cm = -2*((np.log10(fc/28))**2)-5.4\r\n",
        "  if area == \"Open\":\r\n",
        "    cm = -4.728*((np.log10(fc))**2) + 18.33*np.log10(fc)-40.94\r\n",
        "  return cm\r\n",
        "cariCM(area,fc)"
      ],
      "execution_count": 6,
      "outputs": [
        {
          "output_type": "execute_result",
          "data": {
            "text/plain": [
              "0"
            ]
          },
          "metadata": {
            "tags": []
          },
          "execution_count": 6
        }
      ]
    },
    {
      "cell_type": "code",
      "metadata": {
        "colab": {
          "base_uri": "https://localhost:8080/"
        },
        "id": "LXJwaUCbBq0z",
        "outputId": "b5c333c2-8ce4-465d-d7fd-d9474cc42ae6"
      },
      "source": [
        "def pathloss(fc,hT,d):\r\n",
        "  c1,c2 = syaratFC(fc)\r\n",
        "  a_hr = cariAHR(fc,hR)\r\n",
        "  cm = cariCM(area,fc)\r\n",
        "  LP=c1 + c2 * np.log(fc) - 13.38*np.log10(hT) - a_hr + (44.9-6.55*np.log10(hT))*np.log10(d) +cm\r\n",
        "  return LP\r\n",
        "pathloss(fc,hT,d)  "
      ],
      "execution_count": 7,
      "outputs": [
        {
          "output_type": "execute_result",
          "data": {
            "text/plain": [
              "array([ 590.2906166 , 1075.63293684])"
            ]
          },
          "metadata": {
            "tags": []
          },
          "execution_count": 7
        }
      ]
    },
    {
      "cell_type": "code",
      "metadata": {
        "colab": {
          "base_uri": "https://localhost:8080/"
        },
        "id": "GrdDixRIEABJ",
        "outputId": "632f8886-92b1-4f95-d0ad-a0c2f43d6039"
      },
      "source": [
        "#Ketika Path Loss di soal ternyata belum dalam dB\r\n",
        "LP = pathloss(fc,hT,d)\r\n",
        "LpdB = NtL(LP)\r\n",
        "print (\"Path Loss dalam dB = \", LpdB, \"dB\")\r\n",
        "print (\"Path Loss dalam Numerik = \", LP)\r\n",
        "\r\n",
        "\r\n",
        "#Ketika Path Loss di soal ternyata sudah dalam dB\r\n",
        "LP = pathloss(fc,hT,d)\r\n",
        "print(\"\\nPath Loss dalam dB = \", LP, \"dB\")"
      ],
      "execution_count": 8,
      "outputs": [
        {
          "output_type": "stream",
          "text": [
            "Path Loss dalam dB =  [27.7106588  30.31664092] dB\n",
            "Path Loss dalam Numerik =  [ 590.2906166  1075.63293684]\n",
            "\n",
            "Path Loss dalam dB =  [ 590.2906166  1075.63293684] dB\n"
          ],
          "name": "stdout"
        }
      ]
    }
  ]
}